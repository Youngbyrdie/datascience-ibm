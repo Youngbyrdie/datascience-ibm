{
 "cells": [
  {
   "cell_type": "markdown",
   "metadata": {},
   "source": [
    "![File From PC](Comparison_Operators.png)"
   ]
  },
  {
   "cell_type": "code",
   "execution_count": 7,
   "metadata": {},
   "outputs": [],
   "source": [
    "! cp /Users/elizabethbaffoe-bonnie/Desktop/I\\ Drive\\ Safely\\ 1.pdf ."
   ]
  },
  {
   "cell_type": "code",
   "execution_count": 10,
   "metadata": {},
   "outputs": [],
   "source": [
    "! rm -rf I\\ Drive\\ Safely\\ 1.pdf"
   ]
  },
  {
   "cell_type": "code",
   "execution_count": 11,
   "metadata": {},
   "outputs": [
    {
     "name": "stdout",
     "output_type": "stream",
     "text": [
      "total 352\r\n",
      "drwxr-xr-x   9 elizabethbaffoe-bonnie  staff    288 Feb  6 22:26 \u001b[1m\u001b[36m.\u001b[m\u001b[m\r\n",
      "drwxr-xr-x+ 66 elizabethbaffoe-bonnie  staff   2112 Feb  6 22:22 \u001b[1m\u001b[36m..\u001b[m\u001b[m\r\n",
      "drwxr-xr-x  14 elizabethbaffoe-bonnie  staff    448 Feb  6 22:22 \u001b[1m\u001b[36m.git\u001b[m\u001b[m\r\n",
      "drwxr-xr-x   5 elizabethbaffoe-bonnie  staff    160 Feb  6 21:39 \u001b[1m\u001b[36m.ipynb_checkpoints\u001b[m\u001b[m\r\n",
      "-rw-r--r--@  1 elizabethbaffoe-bonnie  staff  98739 Feb  6 22:00 Comparison_Operators.png\r\n",
      "-rw-r--r--   1 elizabethbaffoe-bonnie  staff   2017 Feb  6 22:25 ConditionsAndBranchingInPython.ipynb\r\n",
      "-rwxr-xr-x@  1 elizabethbaffoe-bonnie  staff  21862 Feb  6 21:27 \u001b[31mPY0101EN-2-3-Dictionaries.ipynb\u001b[m\u001b[m\r\n",
      "-rw-r--r--   1 elizabethbaffoe-bonnie  staff  41826 Feb  6 21:16 PythonInDataScienceIBMCert.ipynb\r\n",
      "-rw-r--r--   1 elizabethbaffoe-bonnie  staff     17 Feb  6 20:53 README.md\r\n"
     ]
    }
   ],
   "source": [
    "! ls -al"
   ]
  },
  {
   "cell_type": "code",
   "execution_count": null,
   "metadata": {
    "collapsed": true
   },
   "outputs": [],
   "source": []
  }
 ],
 "metadata": {
  "kernelspec": {
   "display_name": "Python 3",
   "language": "python",
   "name": "python3"
  },
  "language_info": {
   "codemirror_mode": {
    "name": "ipython",
    "version": 3
   },
   "file_extension": ".py",
   "mimetype": "text/x-python",
   "name": "python",
   "nbconvert_exporter": "python",
   "pygments_lexer": "ipython3",
   "version": "3.6.9"
  }
 },
 "nbformat": 4,
 "nbformat_minor": 2
}
