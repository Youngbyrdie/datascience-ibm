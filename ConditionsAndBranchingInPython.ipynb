{
 "cells": [
  {
   "cell_type": "markdown",
   "metadata": {},
   "source": [
    "<img src=\"Comparison_Operators.png\" width=\"900px\">"
   ]
  },
  {
   "cell_type": "markdown",
   "metadata": {},
   "source": [
    "![](Comparison_Operators.png)"
   ]
  },
  {
   "cell_type": "code",
   "execution_count": 21,
   "metadata": {},
   "outputs": [
    {
     "name": "stdout",
     "output_type": "stream",
     "text": [
      "Comparison_Operators.png             PythonInDataScienceIBMCert.ipynb\r\n",
      "ConditionsAndBranchingInPython.ipynb README.md\r\n",
      "\u001b[31mPY0101EN-2-3-Dictionaries.ipynb\u001b[m\u001b[m\r\n"
     ]
    }
   ],
   "source": [
    "! ls"
   ]
  },
  {
   "cell_type": "code",
   "execution_count": 22,
   "metadata": {},
   "outputs": [
    {
     "data": {
      "text/plain": [
       "'/Users/elizabethbaffoe-bonnie/datascience-ibm'"
      ]
     },
     "execution_count": 22,
     "metadata": {},
     "output_type": "execute_result"
    }
   ],
   "source": [
    "pwd"
   ]
  },
  {
   "cell_type": "code",
   "execution_count": 23,
   "metadata": {},
   "outputs": [
    {
     "data": {
      "text/plain": [
       "False"
      ]
     },
     "execution_count": 23,
     "metadata": {},
     "output_type": "execute_result"
    }
   ],
   "source": [
    "a = 2\n",
    "a > 6"
   ]
  },
  {
   "cell_type": "code",
   "execution_count": 24,
   "metadata": {},
   "outputs": [
    {
     "data": {
      "text/plain": [
       "True"
      ]
     },
     "execution_count": 24,
     "metadata": {},
     "output_type": "execute_result"
    }
   ],
   "source": [
    "# a is equal to 2\n",
    "a == 2"
   ]
  },
  {
   "cell_type": "code",
   "execution_count": 25,
   "metadata": {},
   "outputs": [
    {
     "data": {
      "text/plain": [
       "True"
      ]
     },
     "execution_count": 25,
     "metadata": {},
     "output_type": "execute_result"
    }
   ],
   "source": [
    "# a is not equal to 3\n",
    "a != 3"
   ]
  },
  {
   "cell_type": "code",
   "execution_count": 26,
   "metadata": {},
   "outputs": [
    {
     "data": {
      "text/plain": [
       "True"
      ]
     },
     "execution_count": 26,
     "metadata": {},
     "output_type": "execute_result"
    }
   ],
   "source": [
    "# a is greater than or equla to 2\n",
    "a >= 2"
   ]
  },
  {
   "cell_type": "code",
   "execution_count": 28,
   "metadata": {},
   "outputs": [
    {
     "data": {
      "text/plain": [
       "False"
      ]
     },
     "execution_count": 28,
     "metadata": {},
     "output_type": "execute_result"
    }
   ],
   "source": [
    "# a is lesser than or equal to 1\n",
    "a <= 1"
   ]
  },
  {
   "cell_type": "markdown",
   "metadata": {},
   "source": [
    "# Branching\n",
    "*The If Statement*"
   ]
  },
  {
   "cell_type": "code",
   "execution_count": 67,
   "metadata": {},
   "outputs": [
    {
     "name": "stdout",
     "output_type": "stream",
     "text": [
      "you can move on\n"
     ]
    }
   ],
   "source": [
    "age = 17\n",
    "if (age>18):\n",
    "    print(\"you can enter\")\n",
    "print(\"you can move on\")"
   ]
  },
  {
   "cell_type": "code",
   "execution_count": 52,
   "metadata": {},
   "outputs": [
    {
     "name": "stdout",
     "output_type": "stream",
     "text": [
      "you can take the driving exams\n",
      "you cannot take the test\n"
     ]
    }
   ],
   "source": [
    "license = 16\n",
    "if (license>=16):\n",
    "    print('you can take the driving exams')\n",
    "print('you cannot take the test')"
   ]
  },
  {
   "cell_type": "markdown",
   "metadata": {},
   "source": [
    "*The Else Statement*"
   ]
  },
  {
   "cell_type": "code",
   "execution_count": 49,
   "metadata": {},
   "outputs": [
    {
     "name": "stdout",
     "output_type": "stream",
     "text": [
      "you can enter\n",
      "you can move on\n"
     ]
    }
   ],
   "source": [
    "if (age>18): \n",
    "    print('you can enter')\n",
    "else:\n",
    "    print('you can got to the meatloaf concert')\n",
    "print('you can move on')"
   ]
  },
  {
   "cell_type": "code",
   "execution_count": 53,
   "metadata": {},
   "outputs": [
    {
     "name": "stdout",
     "output_type": "stream",
     "text": [
      "you can look into scooters\n"
     ]
    }
   ],
   "source": [
    "if (license<16):\n",
    "    print('you can take the driving exams')\n",
    "else:\n",
    "    print('you can look into scooters')"
   ]
  },
  {
   "cell_type": "markdown",
   "metadata": {},
   "source": [
    "*The ELIF statement*"
   ]
  },
  {
   "cell_type": "code",
   "execution_count": 68,
   "metadata": {},
   "outputs": [
    {
     "name": "stdout",
     "output_type": "stream",
     "text": [
      "you can go to the meatloaf concert\n",
      "you can move on\n"
     ]
    }
   ],
   "source": [
    "if (age<17):\n",
    "    print('you can enter')\n",
    "elif(age==16):\n",
    "    print('you can go to pink floyd')\n",
    "else:\n",
    "    print('you can go to the meatloaf concert')\n",
    "print('you can move on')"
   ]
  },
  {
   "cell_type": "code",
   "execution_count": 75,
   "metadata": {
    "collapsed": true
   },
   "outputs": [],
   "source": [
    "age = 16"
   ]
  },
  {
   "cell_type": "code",
   "execution_count": 76,
   "metadata": {},
   "outputs": [
    {
     "name": "stdout",
     "output_type": "stream",
     "text": [
      "A\n",
      "B\n"
     ]
    }
   ],
   "source": [
    "if (age<17):\n",
    "    print('A')\n",
    "print(\"B\")"
   ]
  },
  {
   "cell_type": "code",
   "execution_count": 79,
   "metadata": {},
   "outputs": [
    {
     "name": "stdout",
     "output_type": "stream",
     "text": [
      "C\n",
      "B\n"
     ]
    }
   ],
   "source": [
    "if (age>17):\n",
    "    print(\"A\")\n",
    "else:\n",
    "    print(\"C\")\n",
    "print(\"B\")"
   ]
  },
  {
   "cell_type": "code",
   "execution_count": 78,
   "metadata": {},
   "outputs": [
    {
     "name": "stdout",
     "output_type": "stream",
     "text": [
      "E\n"
     ]
    }
   ],
   "source": [
    "if (age==17):\n",
    "    print(\"D\")\n",
    "elif(age!=17):\n",
    "    print(\"E\")"
   ]
  },
  {
   "cell_type": "markdown",
   "metadata": {},
   "source": [
    "## *Logic Operators* ##"
   ]
  },
  {
   "cell_type": "markdown",
   "metadata": {},
   "source": [
    "# #OR operator\n",
    "False OR False = False \n",
    "False Or True = True \n",
    "True OR False = True\n",
    "True OR True = True"
   ]
  },
  {
   "cell_type": "code",
   "execution_count": 92,
   "metadata": {
    "collapsed": true
   },
   "outputs": [],
   "source": [
    "album_year = 1990"
   ]
  },
  {
   "cell_type": "code",
   "execution_count": 88,
   "metadata": {},
   "outputs": [
    {
     "name": "stdout",
     "output_type": "stream",
     "text": [
      "The album was made in the 1980s\n"
     ]
    }
   ],
   "source": [
    "if (album_year>1980) or (album_year>1989):\n",
    "    print(\"The album was made in the 70s or 90s\")\n",
    "else:\n",
    "          print('The album was made in the 1980s')"
   ]
  },
  {
   "cell_type": "markdown",
   "metadata": {},
   "source": [
    "## AND operator\n",
    "False AND False = **False\n",
    "False AND True = **False\n",
    "True AND False = **False\n",
    "True AND True = **True"
   ]
  },
  {
   "cell_type": "code",
   "execution_count": 93,
   "metadata": {},
   "outputs": [
    {
     "name": "stdout",
     "output_type": "stream",
     "text": [
      "The album was made in the 70s or 90s\n"
     ]
    }
   ],
   "source": [
    "if (album_year==1990) and (album_year>1989):\n",
    "    print('The album was made in the 70s or 90s')\n",
    "else:\n",
    "    print(\"The ablum was made in the 1980s\")"
   ]
  },
  {
   "cell_type": "code",
   "execution_count": null,
   "metadata": {
    "collapsed": true
   },
   "outputs": [],
   "source": [
    "# If a code contains both OR and AND with a True and False statements, the output will always be true"
   ]
  },
  {
   "cell_type": "code",
   "execution_count": 94,
   "metadata": {},
   "outputs": [
    {
     "name": "stdout",
     "output_type": "stream",
     "text": [
      "The are songs made by Icons\n"
     ]
    }
   ],
   "source": [
    "if (album_year>1987) and (album_year>1994):\n",
    "    print(\"The album is a classic\")\n",
    "elif (album_year==1990) or (album_year>1989):\n",
    "    print(\"The are songs made by Icons\")\n",
    "else:\n",
    "    print(\"This is the era of the millenials\")"
   ]
  },
  {
   "cell_type": "code",
   "execution_count": null,
   "metadata": {
    "collapsed": true
   },
   "outputs": [],
   "source": [
    "# If a code contains two False, it will always print the alternate answer"
   ]
  },
  {
   "cell_type": "code",
   "execution_count": 95,
   "metadata": {},
   "outputs": [
    {
     "name": "stdout",
     "output_type": "stream",
     "text": [
      "This is the era of the millenials\n"
     ]
    }
   ],
   "source": [
    "if (album_year>1987) and (album_year>1994):\n",
    "    print(\"The album is a classic\")\n",
    "elif (album_year!=1990) or (album_year<1989):\n",
    "    print(\"The are songs made by Icons\")\n",
    "else:\n",
    "    print(\"This is the era of the millenials\")"
   ]
  },
  {
   "cell_type": "code",
   "execution_count": null,
   "metadata": {
    "collapsed": true
   },
   "outputs": [],
   "source": [
    "! git status"
   ]
  }
 ],
 "metadata": {
  "kernelspec": {
   "display_name": "Python 3",
   "language": "python",
   "name": "python3"
  },
  "language_info": {
   "codemirror_mode": {
    "name": "ipython",
    "version": 3
   },
   "file_extension": ".py",
   "mimetype": "text/x-python",
   "name": "python",
   "nbconvert_exporter": "python",
   "pygments_lexer": "ipython3",
   "version": "3.6.9"
  }
 },
 "nbformat": 4,
 "nbformat_minor": 2
}
